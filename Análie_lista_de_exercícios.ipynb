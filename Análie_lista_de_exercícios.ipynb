{
  "nbformat": 4,
  "nbformat_minor": 0,
  "metadata": {
    "colab": {
      "provenance": [],
      "authorship_tag": "ABX9TyMQs6JR4P4JL4NfyNC6RwWU",
      "include_colab_link": true
    },
    "kernelspec": {
      "name": "python3",
      "display_name": "Python 3"
    },
    "language_info": {
      "name": "python"
    }
  },
  "cells": [
    {
      "cell_type": "markdown",
      "metadata": {
        "id": "view-in-github",
        "colab_type": "text"
      },
      "source": [
        "<a href=\"https://colab.research.google.com/github/NatalieWF/Projeto-Fotografia/blob/main/An%C3%A1lie_lista_de_exerc%C3%ADcios.ipynb\" target=\"_parent\"><img src=\"https://colab.research.google.com/assets/colab-badge.svg\" alt=\"Open In Colab\"/></a>"
      ]
    },
    {
      "cell_type": "code",
      "execution_count": null,
      "metadata": {
        "colab": {
          "base_uri": "https://localhost:8080/"
        },
        "id": "ihWwPo7a00hI",
        "outputId": "3ddf525e-fe96-4c78-a81c-3346b3c7ed7a"
      },
      "outputs": [
        {
          "output_type": "stream",
          "name": "stdout",
          "text": [
            "Hello World\n"
          ]
        }
      ],
      "source": [
        "# 1) Imprima na tela a mensagem \"Hello World\" na tela.\n",
        "print(\"Hello World\")"
      ]
    },
    {
      "cell_type": "code",
      "source": [
        "# 2) Que solicite um número para o usuário e então mostre a mensagem O número informado foi [número].\n",
        "num1 = int(input(\"Digite um número \"))\n",
        "print(\"O número informado foi:\", num1)"
      ],
      "metadata": {
        "colab": {
          "base_uri": "https://localhost:8080/"
        },
        "id": "e89r4BG71Aiq",
        "outputId": "5650421a-502c-484f-c781-9b6ea950b658"
      },
      "execution_count": null,
      "outputs": [
        {
          "output_type": "stream",
          "name": "stdout",
          "text": [
            "Digite um número 20\n",
            "O número informado foi: 20\n"
          ]
        }
      ]
    },
    {
      "cell_type": "code",
      "source": [
        "# 3) Que tenha como entrada dois números do tipo inteiro e imprima a soma entre ambos.\n",
        "num1= 50\n",
        "num2= 2\n",
        "\n",
        "resultado = num1 + num2\n",
        "print(\"O resultado da soma é: \", resultado)"
      ],
      "metadata": {
        "colab": {
          "base_uri": "https://localhost:8080/"
        },
        "id": "XWnbej6k1mIZ",
        "outputId": "ec5d8e47-6bef-44a8-89d4-713d291e22ee"
      },
      "execution_count": null,
      "outputs": [
        {
          "output_type": "stream",
          "name": "stdout",
          "text": [
            "O resultado da soma é:  52\n"
          ]
        }
      ]
    },
    {
      "cell_type": "code",
      "source": [
        "# 4) Que calcule a média dos alunos com base em 3 notas e mostre o resultado da média.\n",
        "nota1= 5\n",
        "nota2= 5\n",
        "nota3= 5\n",
        "resultado = nota1 + nota2 + nota3\n",
        "média = resultado / 3\n",
        "print(\"O resultado da média é: \", média)\n"
      ],
      "metadata": {
        "colab": {
          "base_uri": "https://localhost:8080/"
        },
        "id": "j_esVH1536BP",
        "outputId": "718ce818-11f0-4621-d7ce-189bf15bc952"
      },
      "execution_count": null,
      "outputs": [
        {
          "output_type": "stream",
          "name": "stdout",
          "text": [
            "O resultado da média é:  5.0\n"
          ]
        }
      ]
    },
    {
      "cell_type": "code",
      "source": [
        "# 5) Que pergunte ao usuário quanto ele ganha por hora e o número de horas trabalhadas no mês. Calcule e mostre o total do seu sálario no referido mês.\n",
        "ValH = float(input(\"Digite quanto você ganha por hora: \"))\n",
        "ValT = float(input(\"Digite quantas horas trabalhadas por mês: \"))\n",
        "resultado = (ValH * ValT)\n",
        "print(\"Seu salário é: \")\n",
        "print(resultado)"
      ],
      "metadata": {
        "colab": {
          "base_uri": "https://localhost:8080/"
        },
        "id": "n9XR5XN8-Z7y",
        "outputId": "12fa5336-ce51-4d8b-c705-4c0aac703963"
      },
      "execution_count": null,
      "outputs": [
        {
          "output_type": "stream",
          "name": "stdout",
          "text": [
            "Digite quanto você ganha por hora: 50\n",
            "Digite quantas horas trabalhadas por mês: 30\n",
            "Seu salário é: \n",
            "1500.0\n"
          ]
        }
      ]
    },
    {
      "cell_type": "code",
      "source": [
        "# 6) Que solicite o primeiro nome de uma pessoa e depois o sobrenome. O programa deverá imprimir o nome mais o sobrenome, concatenando as duas váriaveis.\n",
        "nome = int\n",
        "sobrenome = int\n",
        "nome = (input(\"Digite seu primeiro nome: \"))\n",
        "sobrenome = (input(\"Digite seu sobrenome: \"))\n",
        "resultado = (f'{nome} ' + sobrenome).strip()\n",
        "print(resultado)\n"
      ],
      "metadata": {
        "colab": {
          "base_uri": "https://localhost:8080/"
        },
        "id": "hDaA0M5nBw9s",
        "outputId": "bd4f386a-4325-490d-8712-c07fcc5ffb63"
      },
      "execution_count": null,
      "outputs": [
        {
          "output_type": "stream",
          "name": "stdout",
          "text": [
            "Digite seu primeiro nome: Natalie\n",
            "Digite seu sobrenome: Weles\n",
            "Natalie Weles\n"
          ]
        }
      ]
    },
    {
      "cell_type": "code",
      "source": [
        "# 7) Escreva um programa que peça ao usuário para digitar um número qualquer e o programa irá imprimir na tela o seu sucessor e o seu antecessor.\n",
        "num = int(input(\"Digite um número: \"))\n",
        "su = num + 1\n",
        "an = num - 1\n",
        "print(\"O número escolhido foi: {}, Seu antecessor é: {}, Seu sucessor é: {}\".format(num, an, su))"
      ],
      "metadata": {
        "colab": {
          "base_uri": "https://localhost:8080/"
        },
        "id": "M7SiGRWPFF9V",
        "outputId": "a724b8df-4321-4241-dc6d-210d7720d4bd"
      },
      "execution_count": null,
      "outputs": [
        {
          "output_type": "stream",
          "name": "stdout",
          "text": [
            "Digite um número: 50\n",
            "O número escolhido foi: 50, Seu antecessor é: 49, Seu sucessor é: 51\n"
          ]
        }
      ]
    },
    {
      "cell_type": "code",
      "source": [
        "# 8) Considerando a = 10 e b = 20, temos que:\n",
        "# A) a > b, B) a < b, C) a == b, D) a >= 10, E) b <= a, F) a != b.\n",
        "a = 10\n",
        "b = 20\n",
        "resultado = (a > b)\n",
        "print(resultado)\n",
        "\n",
        "resultado = (a < b)\n",
        "print(resultado)\n",
        "\n",
        "resultado = (a == b)\n",
        "print(resultado)\n",
        "\n",
        "resultado = (a >= 10)\n",
        "print(resultado)\n",
        "\n",
        "resultado = (b <= a)\n",
        "print(resultado)\n",
        "\n",
        "resultado = (a != b)\n",
        "print(resultado)"
      ],
      "metadata": {
        "colab": {
          "base_uri": "https://localhost:8080/"
        },
        "id": "L7r7PuAsIWE9",
        "outputId": "24179fc7-e4f3-42fc-f593-a4a501107640"
      },
      "execution_count": null,
      "outputs": [
        {
          "output_type": "stream",
          "name": "stdout",
          "text": [
            "False\n",
            "True\n",
            "False\n",
            "True\n",
            "False\n",
            "True\n"
          ]
        }
      ]
    },
    {
      "cell_type": "code",
      "source": [
        "# Questão do Buffet Festa Perfeita.\n",
        "convidados = int(input(\"Quantidade de convidados (mínimo cinquenta): \"))\n",
        "\n",
        "if convidados < (50):\n",
        "   resultado(\"Quantidade recomendada são de no mínimo 50 pessoas!\")\n",
        "\n",
        "else:\n",
        "   carne = 0.300\n",
        "   refrigerante = 3\n",
        "   doce = 1\n",
        "   total_de_carne = float(carne + carne * 6/100) * convidados, \"Kg\"\n",
        "\n",
        "\n",
        "\n",
        "   print(\"Quantidade de carnes:\", total_de_carne)\n",
        "   print(\"Quantidade de latas de refrigerante:\", (refrigerante + 9) * convidados)\n",
        "   print(\"Quantidade de doces:\", doce * convidados)\n"
      ],
      "metadata": {
        "colab": {
          "base_uri": "https://localhost:8080/"
        },
        "id": "-NNBnvfumYlu",
        "outputId": "3deb6644-c0c1-4d71-fa05-78ba1f0cafa5"
      },
      "execution_count": null,
      "outputs": [
        {
          "output_type": "stream",
          "name": "stdout",
          "text": [
            "Quantidade de convidados (mínimo cinquenta): 80\n",
            "Quantidade de carnes: (25.44, 'Kg')\n",
            "Quantidade de latas de refrigerante: 960\n",
            "Quantidade de doces: 80\n"
          ]
        }
      ]
    }
  ]
}